{
 "cells": [
  {
   "cell_type": "markdown",
   "metadata": {},
   "source": [
    "# Introduction\n",
    "\n",
    "Python is an interpreted, high-level, general-purpose programming language. Created by Guido van Rossum and first released in 1991, Python's design philosophy emphasizes code readability with its notable use of significant whitespace. Its language constructs and object-oriented approach aim to help programmers write clear, logical code for small and large-scale projects. \n",
    "\n",
    "Benefits of Python over Other Programming Languages:\n",
    "1. Presence of Third Party Modules\n",
    "2. Extensive Support Libraries\n",
    "3. Open Source and Community Development\n",
    "4. Learning Ease and Support Available\n",
    "5. User-friendly Data Structures\n",
    "6. Productivity and Speed\n",
    "\n",
    "Applications of Python:\n",
    "1. GUI based desktop applications\n",
    "    - Image processing and graphic design applications\n",
    "    - Scientific and computational applications\n",
    "    - Games\n",
    "2. Web frameworks and web applications\n",
    "3. Enterprise and business applications\n",
    "4. Operating systems\n",
    "5. Language development\n",
    "6. Prototyping\n",
    "\n",
    "Python is used by: Google (Youtube), Facebook, Dropbox, Yahoo, NASA, IBM, Mozilla, Quora, Instagram, Reddit..."
   ]
  },
  {
   "cell_type": "markdown",
   "metadata": {},
   "source": [
    "# Comments\n",
    "\n",
    "Comments are an integral part of any program. They can come in the form of module-level docstrings, or even inline explanations that help shed light on a complex function."
   ]
  },
  {
   "cell_type": "code",
   "execution_count": 30,
   "metadata": {},
   "outputs": [
    {
     "data": {
      "text/plain": "'\\nIf I really hate pressing `enter` and\\ntyping all those hash marks, I could\\njust do this instead\\n'"
     },
     "execution_count": 30,
     "metadata": {},
     "output_type": "execute_result"
    }
   ],
   "source": [
    "# This is a comment\n",
    "\n",
    "# several lines \n",
    "# comment\n",
    "\n",
    "\"\"\"\n",
    "If I really hate pressing `enter` and\n",
    "typing all those hash marks, I could\n",
    "just do this instead\n",
    "\"\"\""
   ]
  },
  {
   "cell_type": "markdown",
   "metadata": {},
   "source": [
    "# Variables\n",
    "\n",
    "Variables are nothing but reserved memory locations to store values. This means that when you create a variable you reserve some space in memory.\n",
    "\n",
    "Based on the data type of a variable, the interpreter allocates memory and decides what can be stored in the reserved memory. Therefore, by assigning different data types to variables, you can store integers, decimals or characters in these variables.\n",
    "\n",
    "Python variables do not need explicit declaration to reserve memory space. The declaration happens automatically when you assign a value to a variable. The equal sign (=) is used to assign values to variables.\n",
    "\n",
    "The operand to the left of the = operator is the name of the variable and the operand to the right of the = operator is the value stored in the variable. \n",
    "\n",
    "Special keyword - None. The None keyword is used to define a null value, or no value at all."
   ]
  },
  {
   "cell_type": "code",
   "execution_count": 31,
   "metadata": {},
   "outputs": [],
   "source": [
    "# An integer assignment\n",
    "a = 3\n",
    "\n",
    "# A string\n",
    "a = \"text\""
   ]
  },
  {
   "cell_type": "code",
   "execution_count": 32,
   "metadata": {},
   "outputs": [
    {
     "name": "stdout",
     "output_type": "stream",
     "text": [
      "3\n",
      "140728845936480\n"
     ]
    }
   ],
   "source": [
    "#variable a point to 3\n",
    "a = 3\n",
    "print(a)\n",
    "print(id(a))"
   ]
  },
  {
   "cell_type": "code",
   "execution_count": 33,
   "metadata": {},
   "outputs": [],
   "source": [
    "#Multiple Assignment\n",
    "a = b = c = 1\n",
    "a,b,c = 1,2,\"john\""
   ]
  },
  {
   "cell_type": "markdown",
   "metadata": {},
   "source": [
    "Python has five standard data types:\n",
    "    1. Numbers\n",
    "    2. String\n",
    "    3. List\n",
    "    4. Tuple\n",
    "    5. Dictionary"
   ]
  },
  {
   "cell_type": "code",
   "execution_count": 34,
   "metadata": {
    "scrolled": true
   },
   "outputs": [
    {
     "name": "stdout",
     "output_type": "stream",
     "text": [
      "<class 'int'>\n",
      "<class 'float'>\n",
      "<class 'str'>\n",
      "<class 'bool'>\n",
      "<class 'list'>\n",
      "<class 'tuple'>\n",
      "<class 'dict'>\n",
      "<class 'NoneType'>\n"
     ]
    }
   ],
   "source": [
    "a = 3\n",
    "print(type(a))\n",
    "\n",
    "a = 4.5\n",
    "print(type(a))\n",
    "\n",
    "a = \"text\"\n",
    "print(type(a))\n",
    "\n",
    "a = True\n",
    "print(type(a))\n",
    "\n",
    "a = [1, 2, \"third\"]\n",
    "print(type(a))\n",
    "\n",
    "a = (1, 2, \"third\")\n",
    "print(type(a))\n",
    "\n",
    "a = {\"a\": 1, \"b\": \"2\"}\n",
    "print(type(a))\n",
    "\n",
    "a = None\n",
    "print(type(a))"
   ]
  },
  {
   "cell_type": "markdown",
   "metadata": {},
   "source": [
    "# Numbers\n",
    "\n",
    "Number data types store numeric values. Number objects are created when you assign a value to them.\n",
    "Python supports four different numerical types:\n",
    "1. int (signed integers)\n",
    "2. long (long integers, they can also be represented in octal and hexadecimal)\n",
    "3. float (floating point real values)\n",
    "4. complex (complex numbers)\n",
    "\n",
    "Python allows you to use a lowercase l with long, but it is recommended that you use only an uppercase L to avoid confusion with the number 1. Python displays long integers with an uppercase L.\n",
    "A complex number consists of an ordered pair of real floating-point numbers denoted by x + yj, where x and y are the real numbers and j is the imaginary unit."
   ]
  },
  {
   "cell_type": "code",
   "execution_count": 35,
   "metadata": {},
   "outputs": [
    {
     "name": "stdout",
     "output_type": "stream",
     "text": [
      "9\n",
      "-4\n",
      "6\n",
      "9.2\n",
      "1.5\n",
      "2.0\n",
      "2\n",
      "1\n",
      "8\n"
     ]
    }
   ],
   "source": [
    "print(4+5)\n",
    "print(1-5)\n",
    "print(3*2)\n",
    "print(4*2.3)\n",
    "print(3/2)\n",
    "print(4/2)\n",
    "print(7//3)\n",
    "print(7%3)\n",
    "print(2**3)"
   ]
  },
  {
   "cell_type": "code",
   "execution_count": 36,
   "metadata": {},
   "outputs": [
    {
     "name": "stdout",
     "output_type": "stream",
     "text": [
      "3.3000000000000003\n"
     ]
    }
   ],
   "source": [
    "a = 1.1 + 2.2\n",
    "print(a)"
   ]
  },
  {
   "cell_type": "markdown",
   "metadata": {},
   "source": [
    "# Strings\n",
    "\n",
    "Strings in Python are identified as a contiguous set of characters represented in the quotation marks. Python allows for either pairs of single or double quotes. Subsets of strings can be taken using the slice operator ([ ] and [:] ) with indexes starting at 0 in the beginning of the string and working their way from -1 at the end.\n",
    "\n",
    "The plus (+) sign is the string concatenation operator and the asterisk (*) is the repetition operator."
   ]
  },
  {
   "cell_type": "code",
   "execution_count": 37,
   "metadata": {},
   "outputs": [
    {
     "name": "stdout",
     "output_type": "stream",
     "text": [
      "Simple text\n",
      "Simple text\n",
      "\n",
      "        Simple text \n",
      "        within a few lines\n",
      "      \n"
     ]
    }
   ],
   "source": [
    "print('Simple text')\n",
    "print(\"Simple text\")\n",
    "print(\"\"\"\n",
    "        Simple text \n",
    "        within a few lines\n",
    "      \"\"\")"
   ]
  },
  {
   "cell_type": "code",
   "execution_count": 38,
   "metadata": {},
   "outputs": [
    {
     "name": "stdout",
     "output_type": "stream",
     "text": [
      "Hello World!\n",
      "H\n",
      "llo\n",
      "llo World!\n",
      "Hello World!Hello World!\n",
      "Hello World!TEST\n"
     ]
    }
   ],
   "source": [
    "str = 'Hello World!'\n",
    "\n",
    "print (str)          # Prints complete string\n",
    "print (str[0])       # Prints first character of the string\n",
    "print (str[2:5])     # Prints characters starting from 3rd to 5th\n",
    "print (str[2:])      # Prints string starting from 3rd character\n",
    "print (str * 2)      # Prints string two times\n",
    "print (str + \"TEST\") # Prints concatenated string"
   ]
  },
  {
   "cell_type": "markdown",
   "metadata": {},
   "source": [
    "# Boolean\n",
    "\n",
    "The boolean data type is either True or False. In Python, boolean variables are defined by the True and False keywords. The common boolean operators in Python are below:\n",
    "- or\n",
    "- and\n",
    "- not\n",
    "- == (equivalent)\n",
    "- != (not equivalent)"
   ]
  },
  {
   "cell_type": "code",
   "execution_count": 39,
   "metadata": {},
   "outputs": [
    {
     "name": "stdout",
     "output_type": "stream",
     "text": [
      "True\n",
      "True\n",
      "False\n",
      "False\n",
      "False\n"
     ]
    }
   ],
   "source": [
    "a = True\n",
    "b = True\n",
    "\n",
    "print(a and b)\n",
    "print(a or b)\n",
    "print(not b)\n",
    "print(a == (not b))\n",
    "print(a != b)"
   ]
  },
  {
   "cell_type": "markdown",
   "metadata": {},
   "source": [
    "# Lists\n",
    "\n",
    "Lists are the most versatile of Python's compound data types. A list contains items separated by commas and enclosed within square brackets ([]). To some extent, lists are similar to arrays in C. One difference between them is that all the items belonging to a list can be of different data type.\n",
    "\n",
    "The values stored in a list can be accessed using the slice operator ([ ] and [:]) with indexes starting at 0 in the beginning of the list and working their way to end -1. The plus (+) sign is the list concatenation operator, and the asterisk (*) is the repetition operator. .\n",
    "\n",
    "List methods:\n",
    "* append() - Add a single element to the end of the list.\n",
    "* extend() - Add Elements of a List to Another List.\n",
    "* insert() - Inserts Element to The List.\n",
    "* remove() - Removes item from the list.\n",
    "* pop() - Removes element at the given index.\n",
    "* clear() - Removes all Items from the List.\n",
    "* index() - returns smallest index of element in list.\n",
    "* count() - returns occurrences of element in a list.\n",
    "* sort() - sorts elements of a list.\n",
    "* reverse() - Reverses a List.\n",
    "* copy() - Returns Shallow Copy of a List."
   ]
  },
  {
   "cell_type": "code",
   "execution_count": 40,
   "metadata": {},
   "outputs": [
    {
     "name": "stdout",
     "output_type": "stream",
     "text": [
      "['abcd', 786, 2.23, 'john', 70.2]\n",
      "abcd\n",
      "[786, 2.23]\n",
      "[2.23, 'john', 70.2]\n",
      "[123, 'john', 123, 'john']\n",
      "['abcd', 786, 2.23, 'john', 70.2, 123, 'john']\n"
     ]
    }
   ],
   "source": [
    "# empty list\n",
    "a = []\n",
    "list = [ 'abcd', 786 , 2.23, 'john', 70.2 ]\n",
    "tinylist = [123, 'john']\n",
    "\n",
    "print (list)          # Prints complete list\n",
    "print (list[0])       # Prints first element of the list\n",
    "print (list[1:3])     # Prints elements starting from 2nd till 3rd \n",
    "print (list[2:])      # Prints elements starting from 3rd element\n",
    "print (tinylist * 2)  # Prints list two times\n",
    "print (list + tinylist) # Prints concatenated lists"
   ]
  },
  {
   "cell_type": "code",
   "execution_count": 41,
   "metadata": {},
   "outputs": [
    {
     "name": "stdout",
     "output_type": "stream",
     "text": [
      "[2, 7, '7', [1, 10]]\n",
      "[2, 7, '7', [1, 10], 100, 200, 300]\n",
      "[99, 2, 7, '7', [1, 10], 100, 200, 300]\n"
     ]
    }
   ],
   "source": [
    "a = []\n",
    "\n",
    "# Adding to list\n",
    "a.append(2)\n",
    "a.append(7)\n",
    "a.append(\"7\")\n",
    "a.append([1, 10])\n",
    "print(a)\n",
    "\n",
    "a.extend([100, 200, 300])\n",
    "print(a)\n",
    "\n",
    "a.insert(0, 99)\n",
    "print(a)"
   ]
  },
  {
   "cell_type": "code",
   "execution_count": 42,
   "metadata": {},
   "outputs": [
    {
     "name": "stdout",
     "output_type": "stream",
     "text": [
      "[2, 7, '7', [1, 10], 100, 200]\n",
      "[7, '7', [1, 10], 100, 200]\n",
      "[7, 200]\n",
      "[7]\n"
     ]
    }
   ],
   "source": [
    "# Removing from list\n",
    "a.pop(0)\n",
    "a.pop(-1)\n",
    "print(a)\n",
    "\n",
    "del a[0]\n",
    "print(a)\n",
    "\n",
    "del a[1:4]\n",
    "print(a)\n",
    "\n",
    "a.remove(200)\n",
    "print(a)"
   ]
  },
  {
   "cell_type": "code",
   "execution_count": 43,
   "metadata": {},
   "outputs": [
    {
     "name": "stdout",
     "output_type": "stream",
     "text": [
      "Simple te\n",
      "Simple text\n",
      "ple tex\n",
      "t\n"
     ]
    }
   ],
   "source": [
    "# List \"cutting\"\n",
    "a = \"Simple text\"\n",
    "print(a[0:9])\n",
    "print(a[:])\n",
    "print(a[3:-1])\n",
    "print(a[-1:])"
   ]
  },
  {
   "cell_type": "code",
   "execution_count": 44,
   "metadata": {},
   "outputs": [
    {
     "name": "stdout",
     "output_type": "stream",
     "text": [
      "[10, 2, 100, 1000, 5, 10]\n",
      "[1, 2, 3, 4, 5, 6]\n"
     ]
    }
   ],
   "source": [
    "# changing the values of list items\n",
    "a = [1, 2, 3, 4, 5, 6]\n",
    "a[0] = 10\n",
    "a[-1] = 10\n",
    "a[2:4] = [100, 1000]\n",
    "print(a)\n",
    "\n",
    "print([1, 2, 3] + [4, 5, 6])"
   ]
  },
  {
   "cell_type": "code",
   "execution_count": 45,
   "metadata": {},
   "outputs": [
    {
     "name": "stdout",
     "output_type": "stream",
     "text": [
      "True\n",
      "True\n",
      "2\n",
      "3\n"
     ]
    }
   ],
   "source": [
    "# check if value exist in the list\n",
    "print(100 in a)\n",
    "print(1000 in a)\n",
    "\n",
    "print(a.index(100))\n",
    "print(a.index(1000))"
   ]
  },
  {
   "cell_type": "code",
   "execution_count": 46,
   "metadata": {},
   "outputs": [
    {
     "name": "stdout",
     "output_type": "stream",
     "text": [
      "['H', 'e', 'l', 'l', 'o'] <class 'list'>\n",
      "H-e-l-l-o <class 'str'>\n"
     ]
    }
   ],
   "source": [
    "# a useful method to merge list items into a text object - join()\n",
    "a = [\"H\", \"e\", \"l\", \"l\", \"o\"]\n",
    "print(a, type(a))\n",
    "\n",
    "a = \"-\".join(a)\n",
    "print(a, type(a))"
   ]
  },
  {
   "cell_type": "markdown",
   "metadata": {},
   "source": [
    "# Sets\n",
    "\n",
    "A set is an unordered collection of items. Every element is unique (no duplicates) and must be immutable (which cannot be changed).\n",
    "However, the set itself is mutable. We can add or remove items from it.\n",
    "Sets can be used to perform mathematical set operations like union, intersection, symmetric difference etc."
   ]
  },
  {
   "cell_type": "code",
   "execution_count": 47,
   "metadata": {},
   "outputs": [
    {
     "name": "stdout",
     "output_type": "stream",
     "text": [
      "{'pear', 'apple', 'orange', 'banana'}\n",
      "{'pear', 'apple', 'orange', 'banana'}\n",
      "{'c', 'd', 'b', 'a', 'r'} {'m', 'l', 'z', 'c', 'a'}\n",
      "{'b', 'd', 'r'}\n",
      "{'m', 'l', 'z', 'd', 'c', 'b', 'a', 'r'}\n",
      "{'c', 'a'}\n",
      "{'d', 'r', 'm', 'b', 'l', 'z'}\n"
     ]
    }
   ],
   "source": [
    "basket = set(['apple', 'orange', 'apple', 'pear', 'orange', 'banana'])\n",
    "print(basket)\n",
    "\n",
    "basket = {'apple', 'orange', 'apple', 'pear', 'orange', 'banana'}\n",
    "print(basket)\n",
    "\n",
    "a = set('abracadabra')\n",
    "b = set('alacazam')\n",
    "\n",
    "print(a, b)\n",
    "\n",
    "print(a - b)    # exists in a, but not exists in b\n",
    "print(a | b)    # exists in a or b\n",
    "print(a & b)    # exists in both a and b\n",
    "print(a ^ b)    # exists in a or b, but not in both"
   ]
  },
  {
   "cell_type": "markdown",
   "metadata": {},
   "source": [
    "# Tuples\n",
    "\n",
    "A tuple is another sequence data type that is similar to the list. A tuple consists of a number of values separated by commas. Unlike lists, however, tuples are enclosed within parentheses.\n",
    "The main differences between lists and tuples are: Lists are enclosed in brackets ( [ ] ) and their elements and size can be changed, while tuples are enclosed in parentheses ( ( ) ) and cannot be updated. Tuples can be thought of as read-only lists. "
   ]
  },
  {
   "cell_type": "code",
   "execution_count": 48,
   "metadata": {},
   "outputs": [
    {
     "name": "stdout",
     "output_type": "stream",
     "text": [
      "('abcd', 786, 2.23, 'john', 70.2)\n",
      "abcd\n",
      "(786, 2.23)\n",
      "(2.23, 'john', 70.2)\n",
      "(123, 'john', 123, 'john')\n",
      "('abcd', 786, 2.23, 'john', 70.2, 123, 'john')\n"
     ]
    }
   ],
   "source": [
    "tuple = ( 'abcd', 786 , 2.23, 'john', 70.2  )\n",
    "tinytuple = (123, 'john')\n",
    "\n",
    "print (tuple)           # Prints complete list\n",
    "print (tuple[0])        # Prints first element of the list\n",
    "print (tuple[1:3])      # Prints elements starting from 2nd till 3rd \n",
    "print (tuple[2:])       # Prints elements starting from 3rd element\n",
    "print (tinytuple * 2)   # Prints list two times\n",
    "print (tuple + tinytuple) # Prints concatenated lists"
   ]
  },
  {
   "cell_type": "markdown",
   "metadata": {},
   "source": [
    "# Dictionary\n",
    "\n",
    "Python's dictionaries are kind of hash table type. They work like associative arrays or hashes found in Perl and consist of key-value pairs. A dictionary key can be almost any Python type, but are usually numbers or strings. Values, on the other hand, can be any arbitrary Python object.\n",
    "\n",
    "Dictionaries are enclosed by curly braces ({ }) and values can be assigned and accessed using square braces ([]).\n",
    "\n",
    "Dictionary methods:\n",
    "* clear() - Removes all Items.\n",
    "* copy() - Returns Shallow Copy of a Dictionary.\n",
    "* fromkeys() - creates dictionary from given sequence.\n",
    "* get(key) - Returns Value of The Key.\n",
    "* setdefault(key, default) - Inserts Key With a Value if Key is not Present.\n",
    "* items() - returns view of dictionary's (key, value) pair.\n",
    "* keys() - Returns View Object of All Keys.\n",
    "* pop(key) - removes and returns element having given key.\n",
    "* popitem() - Returns & Removes Element From Dictionary.\n",
    "* update() - Updates the Dictionary.\n",
    "* values() - returns view of all values in dictionary."
   ]
  },
  {
   "cell_type": "code",
   "execution_count": 49,
   "metadata": {
    "scrolled": true
   },
   "outputs": [
    {
     "name": "stdout",
     "output_type": "stream",
     "text": [
      "This is one\n",
      "This is two\n",
      "{'name': 'john', 'code': 6734, 'dept': 'sales'}\n",
      "dict_keys(['name', 'code', 'dept'])\n",
      "dict_values(['john', 6734, 'sales'])\n"
     ]
    }
   ],
   "source": [
    "dict = {}\n",
    "dict['one'] = \"This is one\"\n",
    "dict[2]     = \"This is two\"\n",
    "\n",
    "tinydict = {'name': 'john','code':6734, 'dept': 'sales'}\n",
    "\n",
    "print (dict['one'])       # Prints value for 'one' key\n",
    "print (dict[2])           # Prints value for 2 key\n",
    "print (tinydict)          # Prints complete dictionary\n",
    "print (tinydict.keys())   # Prints all the keys\n",
    "print (tinydict.values()) # Prints all the values"
   ]
  },
  {
   "cell_type": "code",
   "execution_count": 50,
   "metadata": {},
   "outputs": [
    {
     "name": "stdout",
     "output_type": "stream",
     "text": [
      "This is two\n",
      "This is two\n",
      "This is one\n",
      "This is one\n"
     ]
    }
   ],
   "source": [
    "# example of method get()\n",
    "print(dict[2])\n",
    "print(dict.get(2))\n",
    "print(dict[\"one\"])\n",
    "print(dict.get(\"one\"))"
   ]
  },
  {
   "cell_type": "code",
   "execution_count": 51,
   "metadata": {},
   "outputs": [
    {
     "name": "stdout",
     "output_type": "stream",
     "text": [
      "{'one': 'This is one', 2: 'This is two', 'hello': 'hello world', 'python': ('a', 'b', 'c')}\n",
      "{'one': 'This is one', 2: 'This is two', 'hello': 'hello universe', 'python': ('a', 'b', 'c')}\n"
     ]
    }
   ],
   "source": [
    "# changing/creating values, kūrimas\n",
    "dict[\"hello\"] = \"hello world\"\n",
    "dict[\"python\"] = (\"a\", \"b\", \"c\")\n",
    "print(dict)\n",
    "\n",
    "dict[\"hello\"] = \"hello universe\"\n",
    "print(dict)"
   ]
  },
  {
   "cell_type": "code",
   "execution_count": 52,
   "metadata": {},
   "outputs": [
    {
     "name": "stdout",
     "output_type": "stream",
     "text": [
      "{'one': 'This is one', 2: 'This is two', 'python': ('a', 'b', 'c')}\n",
      "{'one': 'This is one', 2: 'This is two'}\n",
      "{'one': 'This is one'}\n"
     ]
    }
   ],
   "source": [
    "# elements removing\n",
    "dict.pop(\"hello\")\n",
    "print(dict)\n",
    "\n",
    "dict.popitem()\n",
    "print(dict)\n",
    "dict.popitem()\n",
    "print(dict)\n"
   ]
  },
  {
   "cell_type": "code",
   "execution_count": 53,
   "metadata": {},
   "outputs": [
    {
     "name": "stdout",
     "output_type": "stream",
     "text": [
      "False\n",
      "False\n",
      "not exists\n",
      "not exists\n"
     ]
    }
   ],
   "source": [
    "# check if key exists\n",
    "print(2 in dict)\n",
    "print(\"2\" in dict)\n",
    "\n",
    "print(dict.setdefault(2, \"not exists\"))\n",
    "print(dict.setdefault(\"2\", \"not exists\"))"
   ]
  },
  {
   "cell_type": "markdown",
   "metadata": {},
   "source": [
    "# Data Type Conversion\n",
    "\n",
    "Sometimes, you may need to perform conversions between the built-in types. To convert between types, you simply use the type name as a function.\n",
    "There are several built-in functions to perform conversion from one data type to another. These functions return a new object representing the converted value."
   ]
  },
  {
   "cell_type": "code",
   "execution_count": 54,
   "metadata": {},
   "outputs": [
    {
     "name": "stdout",
     "output_type": "stream",
     "text": [
      "1 <class 'str'>\n",
      "1 <class 'int'>\n"
     ]
    }
   ],
   "source": [
    "# converts string to integer\n",
    "a = \"1\"\n",
    "print(a, type(a))\n",
    "\n",
    "a = int(a)\n",
    "print(a, type(a))"
   ]
  },
  {
   "cell_type": "code",
   "execution_count": 55,
   "metadata": {},
   "outputs": [
    {
     "name": "stdout",
     "output_type": "stream",
     "text": [
      "1 <class 'str'>\n",
      "1.0 <class 'float'>\n"
     ]
    }
   ],
   "source": [
    "# converts string to a floating-point numbe\n",
    "a = \"1\"\n",
    "print(a, type(a))\n",
    "\n",
    "a = float(a)\n",
    "print(a, type(a))"
   ]
  },
  {
   "cell_type": "code",
   "execution_count": 56,
   "metadata": {},
   "outputs": [
    {
     "name": "stdout",
     "output_type": "stream",
     "text": [
      "3 <class 'int'>\n",
      "3.0 <class 'float'>\n"
     ]
    }
   ],
   "source": [
    "# int to float\n",
    "a = 3\n",
    "print(a, type(a))\n",
    "\n",
    "a = float(a)\n",
    "print(a, type(a))"
   ]
  },
  {
   "cell_type": "code",
   "execution_count": 57,
   "metadata": {},
   "outputs": [
    {
     "name": "stdout",
     "output_type": "stream",
     "text": [
      "True\n",
      "False\n",
      "True\n",
      "False\n",
      "True\n",
      "False\n"
     ]
    }
   ],
   "source": [
    "# to bool\n",
    "print(bool(\"text\"))\n",
    "print(bool(\"\"))\n",
    "\n",
    "print(bool(-4))\n",
    "print(bool(0))\n",
    "\n",
    "print(bool([1, 2]))\n",
    "print(bool([]))"
   ]
  },
  {
   "cell_type": "code",
   "execution_count": 58,
   "metadata": {},
   "outputs": [
    {
     "name": "stdout",
     "output_type": "stream",
     "text": [
      "<class 'tuple'>\n"
     ]
    },
    {
     "ename": "TypeError",
     "evalue": "'list' object is not callable",
     "output_type": "error",
     "traceback": [
      "\u001B[1;31m---------------------------------------------------------------------------\u001B[0m",
      "\u001B[1;31mTypeError\u001B[0m                                 Traceback (most recent call last)",
      "\u001B[1;32m<ipython-input-58-1cf2af0a4247>\u001B[0m in \u001B[0;36m<module>\u001B[1;34m\u001B[0m\n\u001B[0;32m      3\u001B[0m \u001B[0mprint\u001B[0m\u001B[1;33m(\u001B[0m\u001B[0mtype\u001B[0m\u001B[1;33m(\u001B[0m\u001B[0ma\u001B[0m\u001B[1;33m)\u001B[0m\u001B[1;33m)\u001B[0m\u001B[1;33m\u001B[0m\u001B[1;33m\u001B[0m\u001B[0m\n\u001B[0;32m      4\u001B[0m \u001B[1;33m\u001B[0m\u001B[0m\n\u001B[1;32m----> 5\u001B[1;33m \u001B[0ma\u001B[0m \u001B[1;33m=\u001B[0m \u001B[0mlist\u001B[0m\u001B[1;33m(\u001B[0m\u001B[0ma\u001B[0m\u001B[1;33m)\u001B[0m\u001B[1;33m\u001B[0m\u001B[1;33m\u001B[0m\u001B[0m\n\u001B[0m\u001B[0;32m      6\u001B[0m \u001B[0mprint\u001B[0m\u001B[1;33m(\u001B[0m\u001B[0mtype\u001B[0m\u001B[1;33m(\u001B[0m\u001B[0ma\u001B[0m\u001B[1;33m)\u001B[0m\u001B[1;33m)\u001B[0m\u001B[1;33m\u001B[0m\u001B[1;33m\u001B[0m\u001B[0m\n\u001B[0;32m      7\u001B[0m \u001B[1;33m\u001B[0m\u001B[0m\n",
      "\u001B[1;31mTypeError\u001B[0m: 'list' object is not callable"
     ]
    }
   ],
   "source": [
    "# tuple/list/set conversions\n",
    "a = (1, 2, 3, 4)\n",
    "print(type(a))\n",
    "\n",
    "a = list(a)\n",
    "print(type(a))\n",
    "\n",
    "a = set(a)\n",
    "print(type(a))"
   ]
  },
  {
   "cell_type": "markdown",
   "metadata": {},
   "source": [
    "# Basic Operators"
   ]
  },
  {
   "cell_type": "code",
   "execution_count": null,
   "metadata": {},
   "outputs": [],
   "source": [
    "# Comparison Operators\n",
    "a = 10\n",
    "b = 20\n",
    "\n",
    "print(a == b) # If the values of two operands are equal, then the condition becomes true.\n",
    "print(a != b) # If values of two operands are not equal, then condition becomes true.\n",
    "print(a > b)  # If the value of left operand is greater than the value of right operand, then condition becomes true.\n",
    "print(a < b)  # If the value of left operand is less than the value of right operand, then condition becomes true.\n",
    "print(a >= b) # If the value of left operand is greater than or equal to the value of right operand, then condition becomes true.\n",
    "print(a <= b) # If the value of left operand is less than or equal to the value of right operand, then condition becomes true."
   ]
  },
  {
   "cell_type": "code",
   "execution_count": null,
   "metadata": {},
   "outputs": [],
   "source": [
    "# Assignment Operators\n",
    "a = 11\n",
    "b = 22\n",
    "\n",
    "c = a + b   # Assigns values from right side operands to left side operand\n",
    "print(c)\n",
    "\n",
    "c += a      # It adds right operand to the left operand and assign the result to left operand. Is equivalent to c = c + a\n",
    "print(c)\n",
    "\n",
    "c -= a      # It subtracts right operand from the left operand and assign the result to left operand. Is equivalent to c = c - a\n",
    "print(c)\n",
    "\n",
    "c *= a      # It multiplies right operand with the left operand and assign the result to left operand. Is equivalent to c = c * a\n",
    "print(c)\n",
    "\n",
    "c /= a      # It divides left operand with the right operand and assign the result to left operand. Is equivalent to c = c / a\n",
    "print(c)\n",
    "\n",
    "c %= a      # It takes modulus using two operands and assign the result to left operand. Is equivalent to c = c % a\n",
    "print(c)\n",
    "\n",
    "c **= a # Performs exponential (power) calculation on operators and assign value to the left operand. Is equivalent to c = c ** a\n",
    "print(c)\n",
    "\n",
    "c //= a     # It performs floor division on operators and assign value to the left operand. Is equivalent to c = c // a\n",
    "print(c)"
   ]
  },
  {
   "cell_type": "code",
   "execution_count": null,
   "metadata": {},
   "outputs": [],
   "source": [
    "# Logical Operators\n",
    "\n",
    "print(True and False)   # Logical AND. If both the operands are true then condition becomes true.\n",
    "print(True or False)    # Logical OR. If any of the two operands are non-zero then condition becomes true.\n",
    "print(not True)         # Logical NOT. Used to reverse the logical state of its operand."
   ]
  },
  {
   "cell_type": "code",
   "execution_count": null,
   "metadata": {},
   "outputs": [],
   "source": [
    "# Membership Operators\n",
    "a = [\"a\", \"b\", \"c\", \"d\"]\n",
    "\n",
    "print(\"v\" in a)        # in. Evaluates to true if it finds a variable in the specified sequence and false otherwise.\n",
    "print(\"v\" not in a)    # not in. Evaluates to true if it does not finds a variable in the specified sequence and false otherwise."
   ]
  },
  {
   "cell_type": "code",
   "execution_count": null,
   "metadata": {},
   "outputs": [],
   "source": [
    "# Identity Operators. Identity operators compare the memory locations of two objects.\n",
    "a = 10\n",
    "b = a\n",
    "\n",
    "print(a is b)   # is. \n",
    "b = 3           #Evaluates to true if the variables on either side of the operator point to the same object and false otherwise\n",
    "print(a is b)   # a is b, here is results in 1 if id(a) equals id(b).\n",
    "\n",
    "print(a is not b)   # is not. \n",
    "                #Evaluates to false if the variables on either side of the operator point to the same object and true otherwise."
   ]
  },
  {
   "cell_type": "markdown",
   "metadata": {},
   "source": [
    "# Input/Output\n",
    "\n",
    "* print() - display program data to the console.\n",
    "* input() - pauses program execution to allow the user to type in a line of input from the keyboard."
   ]
  },
  {
   "cell_type": "code",
   "execution_count": null,
   "metadata": {},
   "outputs": [],
   "source": [
    "# Input\n",
    "name = input(\"Your name:\")\n",
    "print(name, type(name))\n",
    "\n",
    "age = input(\"Your age:\")\n",
    "print(age, type(age))\n",
    "age = int(age)\n",
    "print(age, type(age))"
   ]
  },
  {
   "cell_type": "code",
   "execution_count": null,
   "metadata": {},
   "outputs": [],
   "source": [
    "# Output\n",
    "a = 2\n",
    "print(a)\n",
    "\n",
    "b = \"text\"\n",
    "print(b)\n",
    "\n",
    "c = [1, 2, 4, None, [3, 4], (4, 4), {\"a\": 1, \"b\": 2}]\n",
    "print(c)\n",
    "\n",
    "print(a, b, c)\n",
    "\n",
    "print(\"one\", end=\" \")\n",
    "print(\"line\")"
   ]
  },
  {
   "cell_type": "code",
   "execution_count": null,
   "metadata": {},
   "outputs": [],
   "source": [
    "# formatuotas informacijos išvedimas\n",
    "age = 40\n",
    "name = \"John\"\n",
    "\n",
    "print(\"Hello, my name is {0}, I'm {1}\".format(name, age))\n",
    "print(\"Hi, {0}\".format(name))\n",
    "\n",
    "print(\"Hello, my name is {}, I'm {}\".format(name, age))\n",
    "print(\"Hi, {}\".format(name))\n",
    "\n",
    "print(\"Hello, my name is {name}, I'm {age}\".format(name=\"John\", age=40))\n",
    "print(\"Hi, {name}\".format(name=\"John\"))\n",
    "\n",
    "print(\"{0:.3f}\".format(1.0/3))          # 3 digits after comma\n",
    "print(\"{0:-^11}\".format(\"Hi\"))       # to fill with (-), with centering text (^) up to 11 symbols"
   ]
  },
  {
   "cell_type": "markdown",
   "metadata": {},
   "source": [
    "# Naming Conventions\n",
    "https://www.python.org/dev/peps/pep-0008/#naming-conventions"
   ]
  },
  {
   "cell_type": "markdown",
   "metadata": {},
   "source": [
    "# Tasks\n",
    "1. Write a program, which asks you to input name, lastname and age. Output: the greeting line which contains entered information and line in which will be present a year, when user will be 100 years old.\n",
    "2. Write a program, which asks to enter integer value. Output: this numbet is even or odd.\n",
    "3. Write a program, which asks you enter 5 characters. Characters should be added to list. Output: in the first line - first 3 charakters, in the second line - last 2 characters, in the thid line - the oposite order of list. \n",
    "4. Write a program, which asks you to enter the name and after the name is entered, the program should perform the name search in the dictionary (dictionary should contain name and profession like in the example below). If the name exists - output the profession, if not - \"profession not found\".\n",
    "```python\n",
    "{\n",
    "    \"John\": \"Singer\",\n",
    "    \"Robert\": \"Cosmonaut\",\n",
    "    \"Jessica\": \"Actress\"\n",
    "}\n",
    "```\n",
    "5. Write a program, which asks to enter 5 numbers. Output - numbers in ascending order."
   ]
  }
 ],
 "metadata": {
  "kernelspec": {
   "name": "python3",
   "language": "python",
   "display_name": "Python 3"
  },
  "language_info": {
   "codemirror_mode": {
    "name": "ipython",
    "version": 3
   },
   "file_extension": ".py",
   "mimetype": "text/x-python",
   "name": "python",
   "nbconvert_exporter": "python",
   "pygments_lexer": "ipython3",
   "version": "3.8.3"
  }
 },
 "nbformat": 4,
 "nbformat_minor": 2
}